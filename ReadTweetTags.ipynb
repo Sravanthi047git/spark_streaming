{
 "cells": [
  {
   "cell_type": "code",
   "execution_count": 1,
   "metadata": {},
   "outputs": [],
   "source": [
    "import tweepy\n",
    "from tweepy import OAuthHandler,Stream"
   ]
  },
  {
   "cell_type": "code",
   "execution_count": 2,
   "metadata": {},
   "outputs": [],
   "source": [
    "from tweepy.streaming import StreamListener\n",
    "import socket\n",
    "import json"
   ]
  },
  {
   "cell_type": "code",
   "execution_count": 3,
   "metadata": {},
   "outputs": [],
   "source": [
    "consumer_key='consumer_key'\n",
    "consumer_secret='consumer_secret'\n",
    "access_token='access_token'\n",
    "access_key='access_key'"
   ]
  },
  {
   "cell_type": "code",
   "execution_count": 4,
   "metadata": {},
   "outputs": [],
   "source": [
    "class TweetListener(StreamListener):\n",
    "\tdef __init__(self,csocket):\n",
    "\t\tself.client_socket=csocket\n",
    "\n",
    "\tdef on_data(self,data):\n",
    "\t\ttry:\n",
    "\t\t\tmsg = json.loads(data)\n",
    "\t\t\tprint(msg['text'].encode('utf-8'))\n",
    "\t\t\tself.client_socket.send(msg['text'].encode('utf-8'))\n",
    "\t\t\treturn True\n",
    "\t\texcept BaseExceptio as e:\n",
    "\t\t\tprint(\"Error: \", e)\n",
    "\t\treturn True\n",
    "\n",
    "\tdef on_error(self,status):\n",
    "\t\tprint(status)\n",
    "\t\treturn True"
   ]
  },
  {
   "cell_type": "code",
   "execution_count": 5,
   "metadata": {},
   "outputs": [],
   "source": [
    "def sendData(c_socket):\n",
    "\tauth = OAuthHandler(consumer_key, consumer_secret)\n",
    "\tauth.set_access_token(access_token,access_secret)\n",
    "\n",
    "\ttwitter_stream = Stream(auth, TweetListener(c_socket))\n",
    "\ttwitter_stream.filter(track=['coffe'])"
   ]
  },
  {
   "cell_type": "code",
   "execution_count": null,
   "metadata": {},
   "outputs": [],
   "source": [
    "\tif __name__=='__main__':\n",
    "\t\ts = socket.socket()\n",
    "\t\thost = '127.0.0.1'\n",
    "\t\tport = 9994\n",
    "\t\ts.bind((host,port))\n",
    "\n",
    "\t\tprint('Listening on port', port)\n",
    "\n",
    "\t\ts.listen(5)\n",
    "\t\tc,addr = s.accept()\n",
    "\t\tsendData(c)"
   ]
  },
  {
   "cell_type": "code",
   "execution_count": null,
   "metadata": {},
   "outputs": [],
   "source": []
  }
 ],
 "metadata": {
  "kernelspec": {
   "display_name": "Python 3",
   "language": "python",
   "name": "python3"
  },
  "language_info": {
   "codemirror_mode": {
    "name": "ipython",
    "version": 3
   },
   "file_extension": ".py",
   "mimetype": "text/x-python",
   "name": "python",
   "nbconvert_exporter": "python",
   "pygments_lexer": "ipython3",
   "version": "3.7.6"
  }
 },
 "nbformat": 4,
 "nbformat_minor": 4
}
